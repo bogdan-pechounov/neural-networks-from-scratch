{
 "cells": [
  {
   "cell_type": "code",
   "execution_count": 30,
   "metadata": {},
   "outputs": [],
   "source": [
    "import numpy as np\n",
    "\n",
    "\n",
    "class Layer():\n",
    "  '''\n",
    "    Fullly connected layer\n",
    "  '''\n",
    "\n",
    "  def __init__(self, input_size, output_size, randomize=True):\n",
    "    # initialize weights and biases\n",
    "    if randomize:\n",
    "      self.W = np.random.randn(input_size, output_size)\n",
    "    else:\n",
    "      self.W = np.ones((input_size, output_size))\n",
    "    self.b = np.zeros((1, output_size))\n",
    "\n",
    "  def forward(self, X):\n",
    "    return np.dot(X, self.W) + self.b\n",
    "\n",
    "\n",
    "class NeuralNetwork():\n",
    "  '''\n",
    "    Neural network divided into layers\n",
    "  '''\n",
    "\n",
    "  def __init__(self):\n",
    "    self.layers = []\n",
    "\n",
    "  def add(self, layer):\n",
    "    '''\n",
    "      Add layer\n",
    "    '''\n",
    "    self.layers.append(layer)\n",
    "\n",
    "  def forward(self, X):\n",
    "    '''\n",
    "      Propagate input forward through each layer\n",
    "    '''\n",
    "    for layer in self.layers:\n",
    "      # output of current layer becomes input of next layer\n",
    "      X = layer.forward(X)\n",
    "    return X"
   ]
  },
  {
   "cell_type": "code",
   "execution_count": 31,
   "metadata": {},
   "outputs": [
    {
     "data": {
      "text/plain": [
       "array([[-0.50298774, -0.56848891]])"
      ]
     },
     "execution_count": 31,
     "metadata": {},
     "output_type": "execute_result"
    }
   ],
   "source": [
    "nn = NeuralNetwork()\n",
    "nn.add(Layer(2, 2)) \n",
    "\n",
    "nn.forward([1, 1])"
   ]
  },
  {
   "cell_type": "code",
   "execution_count": 40,
   "metadata": {},
   "outputs": [],
   "source": [
    "class RecurrentLayer():\n",
    "\n",
    "  def __init__(self, input_size, output_size):\n",
    "    self.layer = Layer(input_size, output_size, randomize=False)\n",
    "    self.V = np.ones((output_size, output_size))\n",
    "  \n",
    "  def forward(self, X_seq):\n",
    "    intermediate_results = []\n",
    "    for x_t in X_seq:\n",
    "      z_t = self.layer.forward(x_t)\n",
    "      print(x_t, z_t)\n",
    "      if len(intermediate_results) > 0:\n",
    "        z_t += np.dot(intermediate_results[-1], self.V)\n",
    "      \n",
    "      intermediate_results.append(z_t)\n",
    "    return intermediate_results"
   ]
  },
  {
   "cell_type": "code",
   "execution_count": 41,
   "metadata": {},
   "outputs": [
    {
     "name": "stdout",
     "output_type": "stream",
     "text": [
      "[1, 1] [[2. 2. 2.]]\n",
      "[2, 2] [[4. 4. 4.]]\n",
      "[3, 3] [[6. 6. 6.]]\n"
     ]
    },
    {
     "data": {
      "text/plain": [
       "[array([[2., 2., 2.]]), array([[10., 10., 10.]]), array([[36., 36., 36.]])]"
      ]
     },
     "execution_count": 41,
     "metadata": {},
     "output_type": "execute_result"
    }
   ],
   "source": [
    "X_sequence = [[1, 1], [2, 2], [3, 3]]\n",
    "nn = NeuralNetwork()\n",
    "nn.add(RecurrentLayer(2, 3))\n",
    "\n",
    "nn.forward(X_sequence)"
   ]
  }
 ],
 "metadata": {
  "kernelspec": {
   "display_name": "Python 3",
   "language": "python",
   "name": "python3"
  },
  "language_info": {
   "codemirror_mode": {
    "name": "ipython",
    "version": 3
   },
   "file_extension": ".py",
   "mimetype": "text/x-python",
   "name": "python",
   "nbconvert_exporter": "python",
   "pygments_lexer": "ipython3",
   "version": "3.10.0"
  },
  "orig_nbformat": 4
 },
 "nbformat": 4,
 "nbformat_minor": 2
}
