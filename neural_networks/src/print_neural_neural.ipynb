{
 "cells": [
  {
   "cell_type": "code",
   "execution_count": 11,
   "metadata": {},
   "outputs": [
    {
     "name": "stdout",
     "output_type": "stream",
     "text": [
      "-----\n",
      "Layer (5, 3)\n",
      "-----\n",
      "Layer (3, 2)\n",
      "-----\n",
      "ReLU (0/0 derivatives at x=0)\n",
      "-----\n",
      "Layer (2, 1)\n",
      "-----\n",
      "\n"
     ]
    }
   ],
   "source": [
    "class NeuralNetwork():\n",
    "    '''\n",
    "      Neural network divided into layers\n",
    "    '''\n",
    "\n",
    "    def __init__(self, error):\n",
    "        self.layers = []\n",
    "        self.error = error\n",
    "\n",
    "    def add(self, layer):\n",
    "        '''\n",
    "          Add layer\n",
    "        '''\n",
    "        self.layers.append(layer)\n",
    "\n",
    "    def forward(self, X):\n",
    "        '''\n",
    "          Propagate input forward through each layer\n",
    "        '''\n",
    "        for layer in self.layers:\n",
    "            # output of current layer becomes input of next layer\n",
    "            X = layer.forward(X)\n",
    "        return X\n",
    "\n",
    "    def backward(self, dL_dY, learning_rate):\n",
    "        '''\n",
    "         Propagate loss backwards \n",
    "        '''\n",
    "        for layer in reversed(self.layers):\n",
    "            # input derivative of current layer becomes output derivative of previous layer\n",
    "            dL_dY = layer.backward(dL_dY, learning_rate)\n",
    "        return dL_dY\n",
    "\n",
    "    def train(self, X, Y, epochs=100, learning_rate=0.01):\n",
    "        '''\n",
    "          Perform backprogation for a given number of epochs\n",
    "        '''\n",
    "        for i in range(epochs):\n",
    "            Y_hat = self.forward(X)\n",
    "            dL_dY_hat = self.error.loss_derivative(Y_hat, Y)\n",
    "            self.backward(dL_dY_hat, learning_rate)\n",
    "\n",
    "    def __str__(self) -> str:\n",
    "        seperator = '-----'\n",
    "        inner = f'\\n{seperator}\\n'.join([str(layer) for layer in self.layers])\n",
    "        return f'{seperator}\\n{inner}\\n{seperator}\\n'\n",
    "\n",
    "from layer import Layer\n",
    "from activation.relu import ReLU\n",
    "\n",
    "nn = NeuralNetwork(None)\n",
    "nn.add(Layer(5, 3))\n",
    "nn.add(Layer(3, 2))\n",
    "nn.add(ReLU())\n",
    "nn.add(Layer(2, 1))\n",
    "\n",
    "print(nn)"
   ]
  }
 ],
 "metadata": {
  "kernelspec": {
   "display_name": "Python 3",
   "language": "python",
   "name": "python3"
  },
  "language_info": {
   "codemirror_mode": {
    "name": "ipython",
    "version": 3
   },
   "file_extension": ".py",
   "mimetype": "text/x-python",
   "name": "python",
   "nbconvert_exporter": "python",
   "pygments_lexer": "ipython3",
   "version": "3.10.0"
  },
  "orig_nbformat": 4,
  "vscode": {
   "interpreter": {
    "hash": "bedefe99a532ed1dcc567f7f5beb39e3c5be466ed88551f7c83012ec64f38bef"
   }
  }
 },
 "nbformat": 4,
 "nbformat_minor": 2
}
