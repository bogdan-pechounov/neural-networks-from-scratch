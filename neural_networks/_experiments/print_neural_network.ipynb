{
 "cells": [
  {
   "cell_type": "code",
   "execution_count": 1,
   "metadata": {},
   "outputs": [
    {
     "name": "stdout",
     "output_type": "stream",
     "text": [
      "-----\n",
      "Layer (5, 3)\n",
      "Weights\n",
      "[[1. 1. 1.]\n",
      " [1. 1. 1.]\n",
      " [1. 1. 1.]\n",
      " [1. 1. 1.]\n",
      " [1. 1. 1.]]\n",
      "Biases\n",
      "[[0. 0. 0.]]\n",
      "-----\n",
      "Layer (3, 2)\n",
      "Weights\n",
      "[[1. 1.]\n",
      " [1. 1.]\n",
      " [1. 1.]]\n",
      "Biases\n",
      "[[0. 0.]]\n",
      "-----\n",
      "ReLU (0/0 derivatives at x=0)\n",
      "-----\n",
      "Layer (2, 1)\n",
      "Weights\n",
      "[[1.]\n",
      " [1.]]\n",
      "Biases\n",
      "[[0.]]\n",
      "-----\n",
      "\n"
     ]
    }
   ],
   "source": [
    "from neural_network import NeuralNetwork\n",
    "from layer import Layer\n",
    "from activation.relu import ReLU\n",
    "\n",
    "nn = NeuralNetwork(None)\n",
    "nn.add(Layer(5, 3))\n",
    "nn.add(Layer(3, 2))\n",
    "nn.add(ReLU())\n",
    "nn.add(Layer(2, 1))\n",
    "\n",
    "print(nn)"
   ]
  }
 ],
 "metadata": {
  "kernelspec": {
   "display_name": "Python 3",
   "language": "python",
   "name": "python3"
  },
  "language_info": {
   "codemirror_mode": {
    "name": "ipython",
    "version": 3
   },
   "file_extension": ".py",
   "mimetype": "text/x-python",
   "name": "python",
   "nbconvert_exporter": "python",
   "pygments_lexer": "ipython3",
   "version": "3.10.0"
  },
  "orig_nbformat": 4,
  "vscode": {
   "interpreter": {
    "hash": "bedefe99a532ed1dcc567f7f5beb39e3c5be466ed88551f7c83012ec64f38bef"
   }
  }
 },
 "nbformat": 4,
 "nbformat_minor": 2
}
