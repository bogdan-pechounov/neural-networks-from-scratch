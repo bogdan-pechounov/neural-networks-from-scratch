{
 "cells": [
  {
   "cell_type": "code",
   "execution_count": 1,
   "metadata": {},
   "outputs": [
    {
     "data": {
      "text/plain": [
       "(2223716237680, '0x205bfd10170', 2223716237680, '0x205bfd10170')"
      ]
     },
     "execution_count": 1,
     "metadata": {},
     "output_type": "execute_result"
    }
   ],
   "source": [
    "a = 5\n",
    "id(5), hex(id(5)), id(a), hex(id(a))"
   ]
  },
  {
   "cell_type": "code",
   "execution_count": 64,
   "metadata": {},
   "outputs": [
    {
     "name": "stdout",
     "output_type": "stream",
     "text": [
      "1814557643024 1814557833648 1814557617456\n",
      "1814557828656 1814557833488 1814557648080\n"
     ]
    }
   ],
   "source": [
    "a = 257\n",
    "a += 1 \n",
    "print(id(257), id(258), id(a))\n",
    "a -= 1\n",
    "print(id(257), id(258), id(a))"
   ]
  },
  {
   "cell_type": "code",
   "execution_count": 3,
   "metadata": {},
   "outputs": [
    {
     "data": {
      "text/plain": [
       "(2223716237648, 2223716237648, 2223716237648, 2223797928240)"
      ]
     },
     "execution_count": 3,
     "metadata": {},
     "output_type": "execute_result"
    }
   ],
   "source": [
    "id(4), id(4), id(4), id(4.)"
   ]
  },
  {
   "cell_type": "code",
   "execution_count": 52,
   "metadata": {},
   "outputs": [
    {
     "data": {
      "text/plain": [
       "('0x1a67c1bbc00',\n",
       " 1814458401008,\n",
       " 1814557834512,\n",
       " -99433504,\n",
       " '0x1a6763a6870',\n",
       " '0x1a6763a6870',\n",
       " True)"
      ]
     },
     "execution_count": 52,
     "metadata": {},
     "output_type": "execute_result"
    }
   ],
   "source": [
    "b = '3'\n",
    "a = [1, 257, b]\n",
    "hex(id(a)), id(a[0]), id(a[1]), id(a[0]) - id(a[1]), hex(id(a[2])), hex(id(b)), id(a[2]) == id(b)"
   ]
  },
  {
   "cell_type": "code",
   "execution_count": 62,
   "metadata": {},
   "outputs": [
    {
     "name": "stdout",
     "output_type": "stream",
     "text": [
      "1814558407680 1814535845264 1814557640624 1814459738224\n"
     ]
    },
    {
     "data": {
      "text/plain": [
       "(21795360, -97902400, True)"
      ]
     },
     "execution_count": 62,
     "metadata": {},
     "output_type": "execute_result"
    }
   ],
   "source": [
    "b = '3'\n",
    "a = [1000, 1001, b]\n",
    "\n",
    "print(id(a), id(a[0]), id(a[1]), id(a[2]))\n",
    "\n",
    "id(a[1]) - id(a[0]), id(a[2]) - id(a[1]), id(a[2]) == id(b)"
   ]
  },
  {
   "cell_type": "code",
   "execution_count": 51,
   "metadata": {},
   "outputs": [
    {
     "name": "stdout",
     "output_type": "stream",
     "text": [
      "1814458401040\n",
      "2\n"
     ]
    }
   ],
   "source": [
    "import ctypes\n",
    "\n",
    "a = [1, 2, 3]\n",
    "x = id(a[1])\n",
    "\n",
    "print(x)\n",
    "print(ctypes.cast(x, ctypes.py_object).value)"
   ]
  },
  {
   "cell_type": "code",
   "execution_count": 42,
   "metadata": {},
   "outputs": [
    {
     "data": {
      "text/plain": [
       "(1814557618448, 1814557617584, 1814557617584, False)"
      ]
     },
     "execution_count": 42,
     "metadata": {},
     "output_type": "execute_result"
    }
   ],
   "source": [
    "a = 257\n",
    "id(a), id(257), id(257), id(a) == id(257)"
   ]
  },
  {
   "cell_type": "code",
   "execution_count": 90,
   "metadata": {},
   "outputs": [
    {
     "data": {
      "text/plain": [
       "(1814458401008, 1814458401072, 64)"
      ]
     },
     "execution_count": 90,
     "metadata": {},
     "output_type": "execute_result"
    }
   ],
   "source": [
    "a = 1\n",
    "b = 3\n",
    "id(a), id(b), id(b) - id(a)"
   ]
  },
  {
   "cell_type": "code",
   "execution_count": 87,
   "metadata": {},
   "outputs": [
    {
     "data": {
      "text/plain": [
       "(c_long(1), c_long(1), 1814557950088, 1814557989256, 39168)"
      ]
     },
     "execution_count": 87,
     "metadata": {},
     "output_type": "execute_result"
    }
   ],
   "source": [
    "import ctypes\n",
    "\n",
    "a = ctypes.c_int(1)\n",
    "b = ctypes.c_int(1)\n",
    "xa = ctypes.addressof(a)\n",
    "xb = ctypes.addressof(b)\n",
    "a, b, xa, xb, xb - xa"
   ]
  },
  {
   "cell_type": "code",
   "execution_count": 67,
   "metadata": {},
   "outputs": [
    {
     "data": {
      "text/plain": [
       "(28, 28, 28)"
      ]
     },
     "execution_count": 67,
     "metadata": {},
     "output_type": "execute_result"
    }
   ],
   "source": [
    "import sys \n",
    "a = 1\n",
    "a.__sizeof__(), sys.getsizeof(a), sys.getsizeof(3)"
   ]
  },
  {
   "cell_type": "code",
   "execution_count": 28,
   "metadata": {},
   "outputs": [
    {
     "data": {
      "text/plain": [
       "(64, 72, 120, 120, 120)"
      ]
     },
     "execution_count": 28,
     "metadata": {},
     "output_type": "execute_result"
    }
   ],
   "source": [
    "sys.getsizeof([1]), sys.getsizeof([1, 2]), sys.getsizeof([1, 2, 3]), sys.getsizeof([1, 2, 3, 4]), sys.getsizeof([1, 2, 3, 4, 5])"
   ]
  },
  {
   "cell_type": "code",
   "execution_count": 8,
   "metadata": {},
   "outputs": [
    {
     "data": {
      "text/plain": [
       "(1, 28)"
      ]
     },
     "execution_count": 8,
     "metadata": {},
     "output_type": "execute_result"
    }
   ],
   "source": [
    "[1, 2][0], sys.getsizeof([1, 2][0])"
   ]
  },
  {
   "cell_type": "code",
   "execution_count": 9,
   "metadata": {},
   "outputs": [
    {
     "data": {
      "text/plain": [
       "(2, [1])"
      ]
     },
     "execution_count": 9,
     "metadata": {},
     "output_type": "execute_result"
    }
   ],
   "source": [
    "a = 1\n",
    "b = [a]\n",
    "a += 1\n",
    "a, b"
   ]
  },
  {
   "cell_type": "code",
   "execution_count": 10,
   "metadata": {},
   "outputs": [
    {
     "data": {
      "text/plain": [
       "(50, 51, 53)"
      ]
     },
     "execution_count": 10,
     "metadata": {},
     "output_type": "execute_result"
    }
   ],
   "source": [
    "sys.getsizeof('a'), sys.getsizeof('aa'), sys.getsizeof('aaaa')"
   ]
  },
  {
   "cell_type": "code",
   "execution_count": 11,
   "metadata": {},
   "outputs": [
    {
     "data": {
      "text/plain": [
       "('0x205c4c356b0',\n",
       " '0x205c4afbf70',\n",
       " '0x205c4c691c0',\n",
       " '0x205c4afbf70',\n",
       " '0x205bfd10130')"
      ]
     },
     "execution_count": 11,
     "metadata": {},
     "output_type": "execute_result"
    }
   ],
   "source": [
    "import numpy as np\n",
    "\n",
    "b = 3\n",
    "a = np.array([1, 2, b])\n",
    "hex(id(a)), hex(id(a[0])), hex(id([a[1]])), hex(id(a[2])), hex(id(b))"
   ]
  }
 ],
 "metadata": {
  "kernelspec": {
   "display_name": "Python 3",
   "language": "python",
   "name": "python3"
  },
  "language_info": {
   "codemirror_mode": {
    "name": "ipython",
    "version": 3
   },
   "file_extension": ".py",
   "mimetype": "text/x-python",
   "name": "python",
   "nbconvert_exporter": "python",
   "pygments_lexer": "ipython3",
   "version": "3.10.0"
  },
  "orig_nbformat": 4,
  "vscode": {
   "interpreter": {
    "hash": "bedefe99a532ed1dcc567f7f5beb39e3c5be466ed88551f7c83012ec64f38bef"
   }
  }
 },
 "nbformat": 4,
 "nbformat_minor": 2
}
