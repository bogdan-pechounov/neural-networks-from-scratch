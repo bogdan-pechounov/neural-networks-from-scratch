{
 "cells": [
  {
   "cell_type": "code",
   "execution_count": 1,
   "metadata": {},
   "outputs": [
    {
     "data": {
      "text/plain": [
       "8"
      ]
     },
     "execution_count": 1,
     "metadata": {},
     "output_type": "execute_result"
    }
   ],
   "source": [
    "import multiprocessing\n",
    "\n",
    "multiprocessing.cpu_count()"
   ]
  },
  {
   "cell_type": "code",
   "execution_count": 2,
   "metadata": {},
   "outputs": [
    {
     "data": {
      "text/plain": [
       "(<multiprocessing.pool.Pool state=RUN pool_size=8>,\n",
       " <multiprocessing.pool.Pool state=RUN pool_size=5>,\n",
       " <multiprocessing.pool.Pool state=RUN pool_size=10>)"
      ]
     },
     "execution_count": 2,
     "metadata": {},
     "output_type": "execute_result"
    }
   ],
   "source": [
    "from multiprocessing import Pool\n",
    "\n",
    "Pool(), Pool(5), Pool(10)"
   ]
  },
  {
   "cell_type": "code",
   "execution_count": 3,
   "metadata": {},
   "outputs": [],
   "source": [
    "from multiprocessing import Pool, current_process\n",
    "\n",
    "def f(x):\n",
    "  print(current_process())\n",
    "  return x * x\n",
    "\n",
    "with Pool() as p:\n",
    "  arguments = [1, 2, 3, 4, 5, 6]\n",
    "  results = p.map(f, arguments)\n",
    "  print(results)"
   ]
  },
  {
   "cell_type": "code",
   "execution_count": 3,
   "metadata": {},
   "outputs": [
    {
     "name": "stdout",
     "output_type": "stream",
     "text": [
      "[1. 1. 1. 1. 1. 1. 1. 1. 1. 1.]\n"
     ]
    }
   ],
   "source": [
    "import numpy as np\n",
    "\n",
    "a = np.ones((1000, 10))\n",
    "for row in a:\n",
    "  print(row)\n",
    "  break"
   ]
  },
  {
   "cell_type": "code",
   "execution_count": 6,
   "metadata": {},
   "outputs": [
    {
     "name": "stdout",
     "output_type": "stream",
     "text": [
      "196 ms ± 18.2 ms per loop (mean ± std. dev. of 7 runs, 1 loop each)\n",
      "74.4 ms ± 1.88 ms per loop (mean ± std. dev. of 7 runs, 10 loops each)\n"
     ]
    }
   ],
   "source": [
    "from numba import njit, prange\n",
    "import numpy as np\n",
    "\n",
    "@njit(parallel=True)\n",
    "def add_one_parallel(A):\n",
    "  # add one to each row in parallel  \n",
    "  for i in prange(A.shape[0]):\n",
    "    row = A[i]\n",
    "    row += 1\n",
    "\n",
    "A = np.zeros((50, 1000000))\n",
    "# compile function first time it's called\n",
    "add_one_parallel(A)\n",
    "\n",
    "%timeit A + 1\n",
    "%timeit add_one_parallel(A)"
   ]
  },
  {
   "cell_type": "code",
   "execution_count": 5,
   "metadata": {},
   "outputs": [
    {
     "name": "stdout",
     "output_type": "stream",
     "text": [
      "282 ms ± 69.9 ms per loop (mean ± std. dev. of 7 runs, 1 loop each)\n",
      "83.6 ms ± 13.1 ms per loop (mean ± std. dev. of 7 runs, 10 loops each)\n"
     ]
    }
   ],
   "source": [
    "from numba import njit, prange\n",
    "import numpy as np\n",
    "\n",
    "@njit(parallel=True)\n",
    "def add_one_parallel(A):\n",
    "  for i in prange(A.shape[0]):\n",
    "    for j in prange(A.shape[1]):\n",
    "      A[i][j] += 1\n",
    "\n",
    "A = np.zeros((50, 1000000))\n",
    "# compile function first time it's called\n",
    "add_one_parallel(A)\n",
    "\n",
    "%timeit A + 1\n",
    "%timeit add_one_parallel(A)"
   ]
  },
  {
   "cell_type": "code",
   "execution_count": 15,
   "metadata": {},
   "outputs": [
    {
     "name": "stdout",
     "output_type": "stream",
     "text": [
      "4.57 s ± 29.7 ms per loop (mean ± std. dev. of 7 runs, 1 loop each)\n",
      "827 ms ± 35.5 ms per loop (mean ± std. dev. of 7 runs, 1 loop each)\n",
      "54.9 ms ± 2.44 ms per loop (mean ± std. dev. of 7 runs, 10 loops each)\n",
      "896 ms ± 131 ms per loop (mean ± std. dev. of 7 runs, 1 loop each)\n"
     ]
    }
   ],
   "source": [
    "import numpy as np\n",
    "from numba import njit, prange\n",
    "\n",
    "@njit(parallel=True)\n",
    "def mat_mult(A, B):\n",
    "    assert A.shape[1] == B.shape[0]\n",
    "    res = np.zeros((A.shape[0], B.shape[1]), )\n",
    "    for i in prange(A.shape[0]):\n",
    "        for k in range(A.shape[1]):\n",
    "            for j in range(B.shape[1]):\n",
    "                res[i,j] += A[i,k] * B[k,j]\n",
    "    return res\n",
    "\n",
    "m, n, c = 1000, 1500, 1200\n",
    "A = np.random.randint(1, 1000, size = (m, n))\n",
    "B = np.random.randint(1, 1000, size = (n, c))\n",
    "A2 = np.random.randn(m, n)\n",
    "B2 = np.random.randn(n, c)\n",
    "# A = np.ones((m, n))\n",
    "# B = np.ones((n, c))\n",
    "mat_mult(A, B)\n",
    "%timeit np.dot(A, B)\n",
    "%timeit mat_mult(A, B)\n",
    "%timeit np.dot(A2, B2)\n",
    "%timeit mat_mult(A2, B2)"
   ]
  },
  {
   "cell_type": "code",
   "execution_count": 3,
   "metadata": {},
   "outputs": [
    {
     "name": "stdout",
     "output_type": "stream",
     "text": [
      "14.4 s ± 1.14 s per loop (mean ± std. dev. of 7 runs, 1 loop each)\n",
      "17.2 ms ± 2.22 ms per loop (mean ± std. dev. of 7 runs, 10 loops each)\n",
      "18.4 ms ± 2.52 ms per loop (mean ± std. dev. of 7 runs, 100 loops each)\n"
     ]
    }
   ],
   "source": [
    "import numpy as np\n",
    "from numba import njit, prange\n",
    "\n",
    "def matrix_multiplication(A, B):\n",
    "  m = A.shape[0]\n",
    "  n = A.shape[1]\n",
    "  p = B.shape[1]\n",
    "  C = np.zeros((m, p))\n",
    "  for i in range(m):\n",
    "    for j in range(n):\n",
    "      for k in range(p):\n",
    "        C[i, k] += A[i, j] * B[j, k]\n",
    "  return C\n",
    "\n",
    "@njit(parallel=True)\n",
    "def matrix_multiplication2(A, B):\n",
    "  m = A.shape[0]\n",
    "  n = A.shape[1]\n",
    "  p = B.shape[1]\n",
    "  C = np.zeros((m, p))\n",
    "  for i in prange(m):\n",
    "    for j in prange(n):\n",
    "      for k in prange(p):\n",
    "        C[i, k] += A[i, j] * B[j, k]\n",
    "  return C\n",
    "\n",
    "m = 100000\n",
    "n = 20\n",
    "p = 10\n",
    "A = np.ones((m, n))\n",
    "B = np.ones((n, p))\n",
    "\n",
    "# compile function\n",
    "matrix_multiplication2(A, B)\n",
    "\n",
    "%timeit matrix_multiplication(A, B)\n",
    "%timeit matrix_multiplication2(A, B)\n",
    "%timeit np.dot(A, B)"
   ]
  },
  {
   "cell_type": "code",
   "execution_count": 5,
   "metadata": {},
   "outputs": [
    {
     "name": "stdout",
     "output_type": "stream",
     "text": [
      "453 ms ± 65.7 ms per loop (mean ± std. dev. of 7 runs, 1 loop each)\n",
      "475 ms ± 86.7 ms per loop (mean ± std. dev. of 7 runs, 1 loop each)\n",
      "518 ms ± 70.2 ms per loop (mean ± std. dev. of 7 runs, 1 loop each)\n",
      "676 ms ± 111 ms per loop (mean ± std. dev. of 7 runs, 1 loop each)\n"
     ]
    }
   ],
   "source": [
    "import numpy as np\n",
    "from numba import njit, prange\n",
    "\n",
    "@njit(parallel=True)\n",
    "def matrix_multiplication2(A, B):\n",
    "  m, n = A.shape\n",
    "  _, p = B.shape\n",
    "  C = np.zeros((m, p))\n",
    "  for i in prange(m):\n",
    "    for j in prange(n):\n",
    "      for k in prange(p):\n",
    "        C[i, k] += A[i, j] * B[j, k]\n",
    "  return C\n",
    "\n",
    "@njit(parallel=True)\n",
    "def matrix_multiplication3(A, B):\n",
    "  m, n = A.shape\n",
    "  _, p = B.shape\n",
    "  C = np.zeros((m, p))\n",
    "  for i in prange(m):\n",
    "    for j in range(n):\n",
    "      for k in range(p):\n",
    "        C[i, k] += A[i, j] * B[j, k]\n",
    "  return C\n",
    "\n",
    "@njit(parallel=True)\n",
    "def matrix_multiplication4(A, B):\n",
    "  m, n = A.shape\n",
    "  _, p = B.shape\n",
    "  C = np.zeros((m, p))\n",
    "  for i in prange(m):\n",
    "    for j in prange(n):\n",
    "      for k in range(p):\n",
    "        C[i, k] += A[i, j] * B[j, k]\n",
    "  return C\n",
    "\n",
    "m = 1000000\n",
    "n = 50\n",
    "p = 20\n",
    "A = np.random.randn(m, n)\n",
    "B = np.random.randn(n, p)\n",
    "\n",
    "# compile function\n",
    "matrix_multiplication2(A, B)\n",
    "matrix_multiplication3(A, B)\n",
    "matrix_multiplication4(A, B)\n",
    "\n",
    "%timeit matrix_multiplication2(A, B)\n",
    "%timeit matrix_multiplication3(A, B)\n",
    "%timeit matrix_multiplication4(A, B)\n",
    "%timeit np.dot(A, B)"
   ]
  },
  {
   "cell_type": "code",
   "execution_count": 23,
   "metadata": {},
   "outputs": [
    {
     "name": "stdout",
     "output_type": "stream",
     "text": [
      "parallel\n",
      "1.7 s ± 103 ms per loop (mean ± std. dev. of 7 runs, 1 loop each)\n",
      "1.84 s ± 61.3 ms per loop (mean ± std. dev. of 7 runs, 1 loop each)\n",
      "1.75 s ± 125 ms per loop (mean ± std. dev. of 7 runs, 1 loop each)\n",
      "fastmath\n",
      "1.53 s ± 42.4 ms per loop (mean ± std. dev. of 7 runs, 1 loop each)\n",
      "1.78 s ± 27 ms per loop (mean ± std. dev. of 7 runs, 1 loop each)\n",
      "1.51 s ± 51.6 ms per loop (mean ± std. dev. of 7 runs, 1 loop each)\n",
      "parallel\n",
      "1.71 s ± 49.3 ms per loop (mean ± std. dev. of 7 runs, 1 loop each)\n",
      "1.77 s ± 28.8 ms per loop (mean ± std. dev. of 7 runs, 1 loop each)\n",
      "1.64 s ± 53.9 ms per loop (mean ± std. dev. of 7 runs, 1 loop each)\n",
      "fastmath\n",
      "1.55 s ± 35.6 ms per loop (mean ± std. dev. of 7 runs, 1 loop each)\n",
      "1.8 s ± 39 ms per loop (mean ± std. dev. of 7 runs, 1 loop each)\n",
      "1.6 s ± 112 ms per loop (mean ± std. dev. of 7 runs, 1 loop each)\n",
      "numpy\n",
      "117 ms ± 2.96 ms per loop (mean ± std. dev. of 7 runs, 10 loops each)\n",
      "10.5 s ± 75.3 ms per loop (mean ± std. dev. of 7 runs, 1 loop each)\n",
      "102 ms ± 5.65 ms per loop (mean ± std. dev. of 7 runs, 10 loops each)\n"
     ]
    }
   ],
   "source": [
    "@njit(parallel=True, fastmath=True)\n",
    "def matrix_multiplication2f(A, B):\n",
    "  m, n = A.shape\n",
    "  _, p = B.shape\n",
    "  C = np.zeros((m, p))\n",
    "  for i in prange(m):\n",
    "    for j in prange(n):\n",
    "      for k in prange(p):\n",
    "        C[i, k] += A[i, j] * B[j, k]\n",
    "  return C\n",
    "\n",
    "@njit(parallel=True, fastmath=True)\n",
    "def matrix_multiplication3f(A, B):\n",
    "  m, n = A.shape\n",
    "  _, p = B.shape\n",
    "  C = np.zeros((m, p))\n",
    "  for i in prange(m):\n",
    "    for j in range(n):\n",
    "      for k in range(p):\n",
    "        C[i, k] += A[i, j] * B[j, k]\n",
    "  return C\n",
    "\n",
    "m = 1500\n",
    "n = 1500\n",
    "p = 1500\n",
    "A = np.random.randn(m, n)\n",
    "B = np.random.randn(n, p)\n",
    "A2 = np.random.randint(1, 100, size=(m, n))\n",
    "B2 = np.random.randint(1, 100, size=(n, p))\n",
    "A3 = np.ones((m, n))\n",
    "B3 = np.ones((n, p))\n",
    "\n",
    "\n",
    "# compile function\n",
    "matrix_multiplication2(A, B)\n",
    "matrix_multiplication2f(A, B)\n",
    "matrix_multiplication3(A, B)\n",
    "matrix_multiplication3f(A, B)\n",
    "\n",
    "print('parallel')\n",
    "%timeit matrix_multiplication2(A, B)\n",
    "%timeit matrix_multiplication2(A2, B2)\n",
    "%timeit matrix_multiplication2(A3, B3)\n",
    "print('fastmath')\n",
    "%timeit matrix_multiplication2f(A, B)\n",
    "%timeit matrix_multiplication2f(A2, B2)\n",
    "%timeit matrix_multiplication2f(A3, B3)\n",
    "print('parallel')\n",
    "%timeit matrix_multiplication3(A, B)\n",
    "%timeit matrix_multiplication3(A2, B2)\n",
    "%timeit matrix_multiplication3(A3, B3)\n",
    "print('fastmath')\n",
    "%timeit matrix_multiplication3f(A, B)\n",
    "%timeit matrix_multiplication3f(A2, B2)\n",
    "%timeit matrix_multiplication3f(A3, B3)\n",
    "print('numpy')\n",
    "%timeit A @ B\n",
    "%timeit A2 @ B2\n",
    "%timeit A3 @ B3"
   ]
  }
 ],
 "metadata": {
  "kernelspec": {
   "display_name": "Python 3",
   "language": "python",
   "name": "python3"
  },
  "language_info": {
   "codemirror_mode": {
    "name": "ipython",
    "version": 3
   },
   "file_extension": ".py",
   "mimetype": "text/x-python",
   "name": "python",
   "nbconvert_exporter": "python",
   "pygments_lexer": "ipython3",
   "version": "3.10.0"
  },
  "orig_nbformat": 4,
  "vscode": {
   "interpreter": {
    "hash": "bedefe99a532ed1dcc567f7f5beb39e3c5be466ed88551f7c83012ec64f38bef"
   }
  }
 },
 "nbformat": 4,
 "nbformat_minor": 2
}
