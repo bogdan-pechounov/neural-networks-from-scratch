{
 "cells": [
  {
   "cell_type": "code",
   "execution_count": 1,
   "metadata": {},
   "outputs": [
    {
     "name": "stdout",
     "output_type": "stream",
     "text": [
      "normal\n",
      "1.47 s ± 76.6 ms per loop (mean ± std. dev. of 7 runs, 1 loop each)\n"
     ]
    },
    {
     "ename": "KeyboardInterrupt",
     "evalue": "",
     "output_type": "error",
     "traceback": [
      "\u001b[1;31m---------------------------------------------------------------------------\u001b[0m",
      "\u001b[1;31mKeyboardInterrupt\u001b[0m                         Traceback (most recent call last)",
      "Cell \u001b[1;32mIn[1], line 42\u001b[0m\n\u001b[0;32m     40\u001b[0m \u001b[39mprint\u001b[39m(\u001b[39m'\u001b[39m\u001b[39mnormal\u001b[39m\u001b[39m'\u001b[39m)\n\u001b[0;32m     41\u001b[0m get_ipython()\u001b[39m.\u001b[39mrun_line_magic(\u001b[39m'\u001b[39m\u001b[39mtimeit\u001b[39m\u001b[39m'\u001b[39m, \u001b[39m'\u001b[39m\u001b[39mmatrix_multiplication(A, B)\u001b[39m\u001b[39m'\u001b[39m)\n\u001b[1;32m---> 42\u001b[0m get_ipython()\u001b[39m.\u001b[39;49mrun_line_magic(\u001b[39m'\u001b[39;49m\u001b[39mtimeit\u001b[39;49m\u001b[39m'\u001b[39;49m, \u001b[39m'\u001b[39;49m\u001b[39mmatrix_multiplication(A2, B2)\u001b[39;49m\u001b[39m'\u001b[39;49m)\n\u001b[0;32m     43\u001b[0m get_ipython()\u001b[39m.\u001b[39mrun_line_magic(\u001b[39m'\u001b[39m\u001b[39mtimeit\u001b[39m\u001b[39m'\u001b[39m, \u001b[39m'\u001b[39m\u001b[39mmatrix_multiplication(A3, B3)\u001b[39m\u001b[39m'\u001b[39m)\n\u001b[0;32m     44\u001b[0m \u001b[39mprint\u001b[39m(\u001b[39m'\u001b[39m\u001b[39mparallel\u001b[39m\u001b[39m'\u001b[39m)\n",
      "File \u001b[1;32m~\\AppData\\Roaming\\Python\\Python310\\site-packages\\IPython\\core\\interactiveshell.py:2364\u001b[0m, in \u001b[0;36mInteractiveShell.run_line_magic\u001b[1;34m(self, magic_name, line, _stack_depth)\u001b[0m\n\u001b[0;32m   2362\u001b[0m     kwargs[\u001b[39m'\u001b[39m\u001b[39mlocal_ns\u001b[39m\u001b[39m'\u001b[39m] \u001b[39m=\u001b[39m \u001b[39mself\u001b[39m\u001b[39m.\u001b[39mget_local_scope(stack_depth)\n\u001b[0;32m   2363\u001b[0m \u001b[39mwith\u001b[39;00m \u001b[39mself\u001b[39m\u001b[39m.\u001b[39mbuiltin_trap:\n\u001b[1;32m-> 2364\u001b[0m     result \u001b[39m=\u001b[39m fn(\u001b[39m*\u001b[39margs, \u001b[39m*\u001b[39m\u001b[39m*\u001b[39mkwargs)\n\u001b[0;32m   2365\u001b[0m \u001b[39mreturn\u001b[39;00m result\n",
      "File \u001b[1;32m~\\AppData\\Roaming\\Python\\Python310\\site-packages\\IPython\\core\\magics\\execution.py:1166\u001b[0m, in \u001b[0;36mExecutionMagics.timeit\u001b[1;34m(self, line, cell, local_ns)\u001b[0m\n\u001b[0;32m   1163\u001b[0m         \u001b[39mif\u001b[39;00m time_number \u001b[39m>\u001b[39m\u001b[39m=\u001b[39m \u001b[39m0.2\u001b[39m:\n\u001b[0;32m   1164\u001b[0m             \u001b[39mbreak\u001b[39;00m\n\u001b[1;32m-> 1166\u001b[0m all_runs \u001b[39m=\u001b[39m timer\u001b[39m.\u001b[39;49mrepeat(repeat, number)\n\u001b[0;32m   1167\u001b[0m best \u001b[39m=\u001b[39m \u001b[39mmin\u001b[39m(all_runs) \u001b[39m/\u001b[39m number\n\u001b[0;32m   1168\u001b[0m worst \u001b[39m=\u001b[39m \u001b[39mmax\u001b[39m(all_runs) \u001b[39m/\u001b[39m number\n",
      "File \u001b[1;32mc:\\Users\\bpech\\AppData\\Local\\Programs\\Python\\Python310\\lib\\timeit.py:206\u001b[0m, in \u001b[0;36mTimer.repeat\u001b[1;34m(self, repeat, number)\u001b[0m\n\u001b[0;32m    204\u001b[0m r \u001b[39m=\u001b[39m []\n\u001b[0;32m    205\u001b[0m \u001b[39mfor\u001b[39;00m i \u001b[39min\u001b[39;00m \u001b[39mrange\u001b[39m(repeat):\n\u001b[1;32m--> 206\u001b[0m     t \u001b[39m=\u001b[39m \u001b[39mself\u001b[39;49m\u001b[39m.\u001b[39;49mtimeit(number)\n\u001b[0;32m    207\u001b[0m     r\u001b[39m.\u001b[39mappend(t)\n\u001b[0;32m    208\u001b[0m \u001b[39mreturn\u001b[39;00m r\n",
      "File \u001b[1;32m~\\AppData\\Roaming\\Python\\Python310\\site-packages\\IPython\\core\\magics\\execution.py:156\u001b[0m, in \u001b[0;36mTimer.timeit\u001b[1;34m(self, number)\u001b[0m\n\u001b[0;32m    154\u001b[0m gc\u001b[39m.\u001b[39mdisable()\n\u001b[0;32m    155\u001b[0m \u001b[39mtry\u001b[39;00m:\n\u001b[1;32m--> 156\u001b[0m     timing \u001b[39m=\u001b[39m \u001b[39mself\u001b[39;49m\u001b[39m.\u001b[39;49minner(it, \u001b[39mself\u001b[39;49m\u001b[39m.\u001b[39;49mtimer)\n\u001b[0;32m    157\u001b[0m \u001b[39mfinally\u001b[39;00m:\n\u001b[0;32m    158\u001b[0m     \u001b[39mif\u001b[39;00m gcold:\n",
      "File \u001b[1;32m<magic-timeit>:1\u001b[0m, in \u001b[0;36minner\u001b[1;34m(_it, _timer)\u001b[0m\n",
      "\u001b[1;31mKeyboardInterrupt\u001b[0m: "
     ]
    }
   ],
   "source": [
    "import numpy as np\n",
    "from numba import njit, prange\n",
    "\n",
    "@njit\n",
    "def matrix_multiplication(A, B):\n",
    "  m, n = A.shape\n",
    "  _, p = B.shape\n",
    "  C = np.zeros((m, p))\n",
    "  for i in range(m):\n",
    "    for j in range(n):\n",
    "      for k in range(p):\n",
    "        C[i, k] += A[i, j] * B[j, k]\n",
    "  return C\n",
    "\n",
    "@njit\n",
    "def matrix_multiplication2(A, B):\n",
    "  m, n = A.shape\n",
    "  _, p = B.shape\n",
    "  C = np.zeros((m, p))\n",
    "  for i in prange(m):\n",
    "    for k in range(p):\n",
    "      for j in range(n):\n",
    "        C[i, k] += A[i, j] * B[j, k]\n",
    "  return C\n",
    "\n",
    "m = 1000\n",
    "n = 1000\n",
    "p = 1000\n",
    "A = np.random.randn(m, n)\n",
    "B = np.random.randn(n, p)\n",
    "A2 = np.random.randint(1, 100, size=(m, n))\n",
    "B2 = np.random.randint(1, 100, size=(n, p))\n",
    "A3 = np.ones((m, n))\n",
    "B3 = np.ones((n, p))\n",
    "\n",
    "# compile function\n",
    "matrix_multiplication(A, B)\n",
    "matrix_multiplication2(A, B)\n",
    "\n",
    "print('normal')\n",
    "%timeit matrix_multiplication(A, B)\n",
    "%timeit matrix_multiplication(A2, B2)\n",
    "%timeit matrix_multiplication(A3, B3)\n",
    "print('parallel')\n",
    "%timeit matrix_multiplication2(A, B)\n",
    "%timeit matrix_multiplication2(A2, B2)\n",
    "%timeit matrix_multiplication2(A3, B3)\n",
    "print('numpy')\n",
    "%timeit A @ B\n",
    "%timeit A2 @ B2\n",
    "%timeit A3 @ B3"
   ]
  },
  {
   "cell_type": "code",
   "execution_count": 2,
   "metadata": {},
   "outputs": [
    {
     "data": {
      "text/plain": [
       "[(array(float64, 2d, C), array(float64, 2d, C)),\n",
       " (array(int32, 2d, C), array(int32, 2d, C))]"
      ]
     },
     "execution_count": 2,
     "metadata": {},
     "output_type": "execute_result"
    }
   ],
   "source": [
    "matrix_multiplication.signatures"
   ]
  },
  {
   "cell_type": "code",
   "execution_count": 6,
   "metadata": {},
   "outputs": [
    {
     "name": "stdout",
     "output_type": "stream",
     "text": [
      "1.47 ms ± 156 µs per loop (mean ± std. dev. of 7 runs, 1,000 loops each)\n",
      "1.5 ms ± 122 µs per loop (mean ± std. dev. of 7 runs, 1,000 loops each)\n",
      "1.54 ms ± 71.6 µs per loop (mean ± std. dev. of 7 runs, 1,000 loops each)\n",
      "1.77 ms ± 134 µs per loop (mean ± std. dev. of 7 runs, 1,000 loops each)\n"
     ]
    }
   ],
   "source": [
    "import numpy as np\n",
    "from numba import njit, prange\n",
    "\n",
    "@njit\n",
    "def matrix_multiplication(A, B):\n",
    "  m, n = A.shape\n",
    "  _, p = B.shape\n",
    "  C = np.zeros((m, p))\n",
    "  for i in range(m):\n",
    "    for j in range(n):\n",
    "      for k in range(p):\n",
    "        C[i, k] += A[i, j] * B[j, k]\n",
    "  return C\n",
    "\n",
    "@njit\n",
    "def matrix_multiplication2(A, B):\n",
    "  m, n = A.shape\n",
    "  _, p = B.shape\n",
    "  C = np.zeros((m, p))\n",
    "  for i in prange(m):\n",
    "    for k in range(p):\n",
    "      for j in range(n):\n",
    "        C[i, k] += A[i, j] * B[j, k]\n",
    "  return C\n",
    "\n",
    "m = 100\n",
    "n = 100\n",
    "p = 100\n",
    "A2 = np.random.randint(1, 100, size=(m, n))\n",
    "B2 = np.random.randint(1, 100, size=(n, p))\n",
    "\n",
    "# compile function\n",
    "matrix_multiplication(A2, B2)\n",
    "matrix_multiplication2(A2, B2)\n",
    "\n",
    "\n",
    "%timeit matrix_multiplication(A2, B2)\n",
    "%timeit matrix_multiplication2(A2, B2)\n",
    "%timeit matrix_multiplication(A2, B2)\n",
    "%timeit A2 @ B2"
   ]
  },
  {
   "cell_type": "code",
   "execution_count": 5,
   "metadata": {},
   "outputs": [
    {
     "name": "stdout",
     "output_type": "stream",
     "text": [
      "2611799211984 2611799210128 2611799210128\n",
      "2611799211984 2611799210128 2611799211984\n"
     ]
    }
   ],
   "source": [
    "a = 500\n",
    "b = 501\n",
    "c = b \n",
    "print(id(a), id(b), id(c))\n",
    "c = a\n",
    "print(id(a), id(b), id(c))"
   ]
  },
  {
   "cell_type": "code",
   "execution_count": 2,
   "metadata": {},
   "outputs": [
    {
     "name": "stdout",
     "output_type": "stream",
     "text": [
      "2611799210640 2611799210992 2611799210704\n",
      "2611799210608 2611799211504 2611799211344\n"
     ]
    }
   ],
   "source": [
    "a = 500\n",
    "a += 1 \n",
    "print(id(500), id(501), id(a))\n",
    "a -= 1\n",
    "print(id(500), id(501), id(a))"
   ]
  },
  {
   "cell_type": "code",
   "execution_count": 2,
   "metadata": {},
   "outputs": [
    {
     "name": "stdout",
     "output_type": "stream",
     "text": [
      "The slowest run took 14.15 times longer than the fastest. This could mean that an intermediate result is being cached.\n",
      "4.01 µs ± 5.88 µs per loop (mean ± std. dev. of 7 runs, 1 loop each)\n",
      "1.34 µs ± 91.6 ns per loop (mean ± std. dev. of 7 runs, 1,000,000 loops each)\n"
     ]
    }
   ],
   "source": [
    "import numpy as np\n",
    "from numba import njit, prange\n",
    "\n",
    "@njit\n",
    "def matrix_multiplication(A, B):\n",
    "  m, n = A.shape\n",
    "  _, p = B.shape\n",
    "  C = np.zeros((m, p))\n",
    "  for i in range(m):\n",
    "    for j in range(n):\n",
    "      for k in range(p):\n",
    "        C[i, k] += A[i, j] * B[j, k]\n",
    "  return C\n",
    "\n",
    "m = 1\n",
    "n = 1\n",
    "p = 1\n",
    "A2 = np.random.randint(1, 100, size=(m, n))\n",
    "B2 = np.random.randint(1, 100, size=(n, p))\n",
    "\n",
    "# compile function\n",
    "# matrix_multiplication(A2, B2)\n",
    "\n",
    "\n",
    "%timeit matrix_multiplication(A2, B2)\n",
    "%timeit A2 @ B2"
   ]
  }
 ],
 "metadata": {
  "kernelspec": {
   "display_name": "Python 3",
   "language": "python",
   "name": "python3"
  },
  "language_info": {
   "codemirror_mode": {
    "name": "ipython",
    "version": 3
   },
   "file_extension": ".py",
   "mimetype": "text/x-python",
   "name": "python",
   "nbconvert_exporter": "python",
   "pygments_lexer": "ipython3",
   "version": "3.10.0"
  },
  "orig_nbformat": 4,
  "vscode": {
   "interpreter": {
    "hash": "bedefe99a532ed1dcc567f7f5beb39e3c5be466ed88551f7c83012ec64f38bef"
   }
  }
 },
 "nbformat": 4,
 "nbformat_minor": 2
}
