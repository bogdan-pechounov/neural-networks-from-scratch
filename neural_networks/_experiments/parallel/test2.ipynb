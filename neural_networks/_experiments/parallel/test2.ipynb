{
 "cells": [
  {
   "cell_type": "code",
   "execution_count": 1,
   "metadata": {},
   "outputs": [
    {
     "name": "stdout",
     "output_type": "stream",
     "text": [
      "75.1 ms ± 6.06 ms per loop (mean ± std. dev. of 7 runs, 10 loops each)\n",
      "257 ms ± 65.5 ms per loop (mean ± std. dev. of 7 runs, 1 loop each)\n"
     ]
    }
   ],
   "source": [
    "from numba import njit, prange\n",
    "import numpy as np\n",
    "\n",
    "@njit(parallel=True)\n",
    "def add_one_parallel(A):\n",
    "  # add one to each row in parallel  \n",
    "  for i in prange(A.shape[0]):\n",
    "    row = A[i]\n",
    "    row += 1\n",
    "\n",
    "A = np.zeros((50, 1000000))\n",
    "# compile function first time it's called\n",
    "add_one_parallel(A)\n",
    "\n",
    "%timeit add_one_parallel(A)\n",
    "%timeit A + 1"
   ]
  },
  {
   "cell_type": "code",
   "execution_count": 5,
   "metadata": {},
   "outputs": [
    {
     "name": "stdout",
     "output_type": "stream",
     "text": [
      "76.4 ms ± 11.2 ms per loop (mean ± std. dev. of 7 runs, 10 loops each)\n",
      "67.8 ms ± 2.32 ms per loop (mean ± std. dev. of 7 runs, 10 loops each)\n",
      "68.2 ms ± 1.54 ms per loop (mean ± std. dev. of 7 runs, 10 loops each)\n",
      "211 ms ± 30.7 ms per loop (mean ± std. dev. of 7 runs, 1 loop each)\n"
     ]
    }
   ],
   "source": [
    "from numba import njit, prange\n",
    "import numpy as np\n",
    "\n",
    "@njit\n",
    "def add_one(A):\n",
    "  for i in range(A.shape[0]):\n",
    "    for j in range(A.shape[1]):\n",
    "      A[i][j] += 1\n",
    "\n",
    "@njit(parallel=True)\n",
    "def add_one_parallel(A):\n",
    "  for i in prange(A.shape[0]):\n",
    "    for j in prange(A.shape[1]):\n",
    "      A[i][j] += 1\n",
    "\n",
    "@njit(parallel=True)\n",
    "def add_one_parallel2(A):\n",
    "  for i in prange(A.shape[0]):\n",
    "    for j in range(A.shape[1]):\n",
    "      A[i][j] += 1\n",
    "\n",
    "A = np.zeros((50, 1000000))\n",
    "# compile function first time it's called\n",
    "add_one(np.zeros((1, 1)))\n",
    "add_one_parallel(np.zeros((1, 1)))\n",
    "add_one_parallel2(np.zeros((1, 1)))\n",
    "\n",
    "%timeit add_one(A)\n",
    "%timeit add_one_parallel(A)\n",
    "%timeit add_one_parallel2(A)\n",
    "%timeit A + 1"
   ]
  },
  {
   "cell_type": "code",
   "execution_count": 21,
   "metadata": {},
   "outputs": [
    {
     "name": "stdout",
     "output_type": "stream",
     "text": [
      "3.23 s ± 63.9 ms per loop (mean ± std. dev. of 7 runs, 1 loop each)\n",
      "1.3 s ± 22.6 ms per loop (mean ± std. dev. of 7 runs, 1 loop each)\n",
      "2.2 s ± 31.1 ms per loop (mean ± std. dev. of 7 runs, 1 loop each)\n",
      "1.66 s ± 37.4 ms per loop (mean ± std. dev. of 7 runs, 1 loop each)\n"
     ]
    }
   ],
   "source": [
    "import numpy as np\n",
    "from numba import njit, prange\n",
    "\n",
    "def matrix_multiplication(A, B):\n",
    "  m, n = A.shape\n",
    "  _, p = B.shape\n",
    "  C = np.zeros((m, p))\n",
    "  for i in range(m):\n",
    "    for j in range(n):\n",
    "      for k in range(p):\n",
    "        C[i, k] += A[i, j] * B[j, k]\n",
    "  return C\n",
    "\n",
    "@njit\n",
    "def matrix_multiplication_optimized(A, B):\n",
    "  m, n = A.shape\n",
    "  _, p = B.shape\n",
    "  C = np.zeros((m, p))\n",
    "  for i in range(m):\n",
    "    for j in range(n):\n",
    "      for k in range(p):\n",
    "        C[i, k] += A[i, j] * B[j, k]\n",
    "  return C\n",
    "\n",
    "@njit(parallel=True)\n",
    "def matrix_multiplication_parallel(A, B):\n",
    "  m, n = A.shape\n",
    "  _, p = B.shape\n",
    "  C = np.zeros((m, p))\n",
    "  for i in prange(m):\n",
    "    for j in prange(n):\n",
    "      for k in prange(p):\n",
    "        C[i, k] += A[i, j] * B[j, k]\n",
    "  return C\n",
    "\n",
    "@njit(parallel=True, fastmath=True)\n",
    "def matrix_multiplication_parallelf(A, B):\n",
    "  m, n = A.shape\n",
    "  _, p = B.shape\n",
    "  C = np.zeros((m, p))\n",
    "  for i in prange(m):\n",
    "    # C[i, k] += A[i, j] * B[j, k]\n",
    "    C[i] = np.dot(A[i], B)\n",
    "  return C\n",
    "\n",
    "m = 10_000_000\n",
    "n = 20\n",
    "p = 10\n",
    "A = np.ones((m, n))\n",
    "B = np.ones((n, p))\n",
    "\n",
    "# compile function\n",
    "matrix_multiplication_optimized(A, B)\n",
    "matrix_multiplication_parallel(A, B)\n",
    "matrix_multiplication_parallelf(A, B)\n",
    "\n",
    "%timeit matrix_multiplication_optimized(A, B)\n",
    "%timeit matrix_multiplication_parallel(A, B)\n",
    "%timeit matrix_multiplication_parallelf(A, B)\n",
    "%timeit A @ B"
   ]
  },
  {
   "cell_type": "code",
   "execution_count": 23,
   "metadata": {},
   "outputs": [
    {
     "ename": "TypeError",
     "evalue": "unsupported operand type(s) for /: 'tuple' and 'tuple'",
     "output_type": "error",
     "traceback": [
      "\u001b[1;31m---------------------------------------------------------------------------\u001b[0m",
      "\u001b[1;31mTypeError\u001b[0m                                 Traceback (most recent call last)",
      "Cell \u001b[1;32mIn[23], line 1\u001b[0m\n\u001b[1;32m----> 1\u001b[0m (\u001b[39m1\u001b[39;49m, \u001b[39m2\u001b[39;49m)\u001b[39m/\u001b[39;49m(\u001b[39m3\u001b[39;49m, \u001b[39m3\u001b[39;49m)\n",
      "\u001b[1;31mTypeError\u001b[0m: unsupported operand type(s) for /: 'tuple' and 'tuple'"
     ]
    }
   ],
   "source": [
    "(1, 2)/(3, 3)"
   ]
  }
 ],
 "metadata": {
  "kernelspec": {
   "display_name": "Python 3",
   "language": "python",
   "name": "python3"
  },
  "language_info": {
   "codemirror_mode": {
    "name": "ipython",
    "version": 3
   },
   "file_extension": ".py",
   "mimetype": "text/x-python",
   "name": "python",
   "nbconvert_exporter": "python",
   "pygments_lexer": "ipython3",
   "version": "3.10.0"
  },
  "orig_nbformat": 4,
  "vscode": {
   "interpreter": {
    "hash": "bedefe99a532ed1dcc567f7f5beb39e3c5be466ed88551f7c83012ec64f38bef"
   }
  }
 },
 "nbformat": 4,
 "nbformat_minor": 2
}
