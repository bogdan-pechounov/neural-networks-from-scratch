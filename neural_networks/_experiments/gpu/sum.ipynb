{
 "cells": [
  {
   "cell_type": "code",
   "execution_count": 73,
   "metadata": {},
   "outputs": [
    {
     "name": "stdout",
     "output_type": "stream",
     "text": [
      "1799970000 1799970000\n",
      "9.04 ms ± 253 µs per loop (mean ± std. dev. of 7 runs, 100 loops each)\n",
      "37.8 µs ± 625 ns per loop (mean ± std. dev. of 7 runs, 10,000 loops each)\n",
      "28.9 µs ± 1.19 µs per loop (mean ± std. dev. of 7 runs, 10,000 loops each)\n"
     ]
    }
   ],
   "source": [
    "from numba import njit, int32, prange\n",
    "import numpy as np\n",
    "\n",
    "def sum(a):\n",
    "  s = 0\n",
    "  for i in range(len(a)):\n",
    "    s += a[i]\n",
    "  return s\n",
    "\n",
    "@njit(int32(int32[:])) # argument is an array of integers \"int32[:]\" and the output is an integer \"int32(arguments)\"\n",
    "def sum_optimized(a):\n",
    "  s = 0\n",
    "  for i in range(len(a)):\n",
    "    s += a[i]\n",
    "  return s\n",
    "\n",
    "@njit(int32(int32[:]), parallel=True)\n",
    "def sum_parallel(a):\n",
    "  s = 0\n",
    "  for i in prange(len(a)):\n",
    "    s += a[i]\n",
    "  return s\n",
    "\n",
    "a = np.arange(60_000)\n",
    "\n",
    "print(sum_optimized(a), sum_parallel(a)) # verify that sum_parallel works (only one thread at a time can write to s)\n",
    "\n",
    "%timeit sum(a)\n",
    "%timeit sum_optimized(a)\n",
    "%timeit sum_parallel(a)"
   ]
  },
  {
   "cell_type": "code",
   "execution_count": 110,
   "metadata": {},
   "outputs": [
    {
     "data": {
      "text/plain": [
       "(float64, int32, none, None)"
      ]
     },
     "execution_count": 110,
     "metadata": {},
     "output_type": "execute_result"
    }
   ],
   "source": [
    "from numba.types import float64, int32\n",
    "from numba import int32, void\n",
    "float64, int32, void, None"
   ]
  },
  {
   "cell_type": "code",
   "execution_count": 38,
   "metadata": {},
   "outputs": [
    {
     "name": "stdout",
     "output_type": "stream",
     "text": [
      "sum of chunk 0 : 4950sum of chunk 9 : 94950\n",
      "sum of chunk 8 : 84950\n",
      "sum of chunk 6 : 64950\n",
      "\n",
      "sum of chunk 2 : 24950\n",
      "sum of chunk 3 : 34950\n",
      "sum of chunk 7 : 74950\n",
      "sum of chunk 1 : 14950\n",
      "sum of chunk 4 : 44950\n",
      "sum of chunk 5 : 54950\n"
     ]
    },
    {
     "data": {
      "text/plain": [
       "10"
      ]
     },
     "execution_count": 38,
     "metadata": {},
     "output_type": "execute_result"
    }
   ],
   "source": [
    "import math\n",
    "\n",
    "@njit(int32(int32[:], int32), parallel=True)\n",
    "def sum_parallel_chunk(a, chunk_size):\n",
    "  num_chunks = math.ceil(len(a)/chunk_size)\n",
    "  for chunk_i in prange(num_chunks): # assign thread to one chunk\n",
    "    s = 0 # each thread has its own s \n",
    "    for element_i in range(chunk_size): # position relative to chunk\n",
    "      i = chunk_i * chunk_size + element_i # \"absolute\" position\n",
    "      if i < len(a): # last chunk could be smaller than chunk_size\n",
    "        s += a[i]\n",
    "    print(f'sum of chunk {chunk_i} : {s}')\n",
    "  return num_chunks\n",
    "\n",
    "sum_parallel_chunk(a, chunk_size=100)"
   ]
  },
  {
   "cell_type": "code",
   "execution_count": 49,
   "metadata": {},
   "outputs": [
    {
     "name": "stdout",
     "output_type": "stream",
     "text": [
      "chunk size: 125\n",
      "sum of chunk 0 : 7750\n",
      "sum of chunk 1 : 23375\n",
      "sum of chunk 4 : 70250\n",
      "sum of chunk 2 : 39000\n",
      "sum of chunk 5 : 85875\n",
      "sum of chunk 7 : 117125\n",
      "sum of chunk 6 : 101500\n",
      "sum of chunk 3 : 54625\n"
     ]
    },
    {
     "data": {
      "text/plain": [
       "8"
      ]
     },
     "execution_count": 49,
     "metadata": {},
     "output_type": "execute_result"
    }
   ],
   "source": [
    "import math\n",
    "\n",
    "@njit(int32(int32[:], int32), parallel=True)\n",
    "def sum_parallel_chunk(a, num_chunks):\n",
    "  chunk_size = math.ceil(len(a)/num_chunks)\n",
    "  print(f'chunk size: {chunk_size}')\n",
    "  for chunk_i in prange(num_chunks): # assign thread to one chunk\n",
    "    s = 0 # each thread has its own s \n",
    "    for element_i in range(chunk_size): # position relative to chunk\n",
    "      i = chunk_i * chunk_size + element_i # \"absolute\" position\n",
    "      if i < len(a): # last chunk could be smaller than chunk_size\n",
    "        s += a[i]\n",
    "    print(f'sum of chunk {chunk_i} : {s}')\n",
    "  return num_chunks\n",
    "\n",
    "sum_parallel_chunk(a, num_chunks=8)"
   ]
  },
  {
   "cell_type": "code",
   "execution_count": 76,
   "metadata": {},
   "outputs": [
    {
     "data": {
      "text/plain": [
       "499500"
      ]
     },
     "execution_count": 76,
     "metadata": {},
     "output_type": "execute_result"
    }
   ],
   "source": [
    "@njit(int32(int32[:], int32), parallel=True)\n",
    "def sum_parallel_chunk(a, num_chunks):\n",
    "  chunk_size = math.ceil(len(a)/num_chunks)\n",
    "  shared_sums = np.zeros(num_chunks)\n",
    "  for chunk_i in prange(num_chunks): # assign thread to one chunk\n",
    "    for element_i in range(chunk_size): # position relative to chunk\n",
    "      i = chunk_i * chunk_size + element_i # \"absolute\" position\n",
    "      if i < len(a): # last chunk could be smaller than chunk_size\n",
    "        shared_sums[chunk_i] += a[i]\n",
    "  # combine the results\n",
    "  result = 0\n",
    "  for s in shared_sums:\n",
    "    result += s\n",
    "  return result\n",
    "  \n",
    "a = np.arange(1000)\n",
    "sum_parallel_chunk(a, num_chunks=10)"
   ]
  },
  {
   "cell_type": "code",
   "execution_count": 81,
   "metadata": {},
   "outputs": [
    {
     "name": "stdout",
     "output_type": "stream",
     "text": [
      "808 µs ± 147 µs per loop (mean ± std. dev. of 7 runs, 1,000 loops each)\n",
      "327 µs ± 111 µs per loop (mean ± std. dev. of 7 runs, 1,000 loops each)\n",
      "chunks\n",
      "610 µs ± 48.7 µs per loop (mean ± std. dev. of 7 runs, 1,000 loops each)\n",
      "423 µs ± 26.1 µs per loop (mean ± std. dev. of 7 runs, 1,000 loops each)\n",
      "463 µs ± 90.6 µs per loop (mean ± std. dev. of 7 runs, 1,000 loops each)\n",
      "520 µs ± 69.3 µs per loop (mean ± std. dev. of 7 runs, 1,000 loops each)\n",
      "842 µs ± 28.3 µs per loop (mean ± std. dev. of 7 runs, 1,000 loops each)\n"
     ]
    }
   ],
   "source": [
    "a = np.ones(1_000_000, dtype=np.int32)\n",
    "%timeit sum_optimized(a)\n",
    "%timeit sum_parallel(a)\n",
    "print('chunks')\n",
    "%timeit sum_parallel_chunk(a, num_chunks=10)\n",
    "%timeit sum_parallel_chunk(a, num_chunks=100)\n",
    "%timeit sum_parallel_chunk(a, num_chunks=1000)\n",
    "%timeit sum_parallel_chunk(a, num_chunks=10_000)\n",
    "%timeit sum_parallel_chunk(a, num_chunks=100_000)"
   ]
  },
  {
   "cell_type": "code",
   "execution_count": 90,
   "metadata": {},
   "outputs": [
    {
     "data": {
      "text/plain": [
       "(4950, 4950)"
      ]
     },
     "execution_count": 90,
     "metadata": {},
     "output_type": "execute_result"
    }
   ],
   "source": [
    "def sum_divide(a):\n",
    "  n = len(a)\n",
    "  if n == 1:\n",
    "    return a[0]\n",
    "  else:\n",
    "    split_index = math.ceil(n/2)\n",
    "    left = a[:split_index]\n",
    "    right = a[split_index:]\n",
    "    return sum_divide(left) + sum_divide(right)\n",
    "\n",
    "a = np.arange(100)\n",
    "sum_divide(a), a.sum()"
   ]
  },
  {
   "cell_type": "code",
   "execution_count": 98,
   "metadata": {},
   "outputs": [
    {
     "name": "stdout",
     "output_type": "stream",
     "text": [
      "[21  1  5  3 15  5  6]\n"
     ]
    },
    {
     "data": {
      "text/plain": [
       "(21, 21)"
      ]
     },
     "execution_count": 98,
     "metadata": {},
     "output_type": "execute_result"
    }
   ],
   "source": [
    "def sum_reduce(a):\n",
    "  n = len(a)\n",
    "  a_cpy = a.copy()\n",
    "  step_size = 1\n",
    "  while step_size < n:\n",
    "    for i in range(n):\n",
    "      if i % (2 * step_size) == 0 and i + step_size < n:\n",
    "        a_cpy[i] += a_cpy[i + step_size]\n",
    "    step_size *= 2\n",
    "  print(a_cpy)\n",
    "  return a_cpy[0]\n",
    "\n",
    "a = np.arange(7)\n",
    "sum_reduce(a), a.sum()"
   ]
  },
  {
   "cell_type": "code",
   "execution_count": 105,
   "metadata": {},
   "outputs": [
    {
     "name": "stdout",
     "output_type": "stream",
     "text": [
      "58.5 µs ± 691 ns per loop (mean ± std. dev. of 7 runs, 10,000 loops each)\n",
      "35.5 µs ± 1.42 µs per loop (mean ± std. dev. of 7 runs, 10,000 loops each)\n",
      "2.49 ms ± 153 µs per loop (mean ± std. dev. of 7 runs, 100 loops each)\n"
     ]
    }
   ],
   "source": [
    "@njit(int32(int32[:]), parallel=True)\n",
    "def sum_reduce_parallel(a):\n",
    "  n = len(a)\n",
    "  a_cpy = a.copy()\n",
    "  step_size = 1\n",
    "  while step_size < n:\n",
    "    for i in prange(n): # \n",
    "      if i % (2 * step_size) == 0 and i + step_size < n:\n",
    "        a_cpy[i] += a_cpy[i + step_size]\n",
    "    step_size *= 2\n",
    "  return a_cpy[0]\n",
    "\n",
    "a = np.ones(100_000, dtype=np.int32)\n",
    "%timeit sum_optimized(a)\n",
    "%timeit sum_parallel(a)\n",
    "%timeit sum_reduce_parallel(a)"
   ]
  },
  {
   "cell_type": "code",
   "execution_count": 111,
   "metadata": {},
   "outputs": [
    {
     "data": {
      "text/plain": [
       "numpy.int32"
      ]
     },
     "execution_count": 111,
     "metadata": {},
     "output_type": "execute_result"
    }
   ],
   "source": [
    "type(np.arange(10)[0])"
   ]
  },
  {
   "cell_type": "code",
   "execution_count": 117,
   "metadata": {},
   "outputs": [
    {
     "name": "stdout",
     "output_type": "stream",
     "text": [
      "152 ns ± 19.3 ns per loop (mean ± std. dev. of 7 runs, 10,000,000 loops each)\n",
      "258 ns ± 10.6 ns per loop (mean ± std. dev. of 7 runs, 1,000,000 loops each)\n"
     ]
    }
   ],
   "source": [
    "a = np.array([[0, 1], [1, 2]])\n",
    "\n",
    "%timeit a[0, 0]\n",
    "%timeit a[0][0]\n"
   ]
  }
 ],
 "metadata": {
  "kernelspec": {
   "display_name": "Python 3",
   "language": "python",
   "name": "python3"
  },
  "language_info": {
   "codemirror_mode": {
    "name": "ipython",
    "version": 3
   },
   "file_extension": ".py",
   "mimetype": "text/x-python",
   "name": "python",
   "nbconvert_exporter": "python",
   "pygments_lexer": "ipython3",
   "version": "3.10.0"
  },
  "orig_nbformat": 4,
  "vscode": {
   "interpreter": {
    "hash": "bedefe99a532ed1dcc567f7f5beb39e3c5be466ed88551f7c83012ec64f38bef"
   }
  }
 },
 "nbformat": 4,
 "nbformat_minor": 2
}
